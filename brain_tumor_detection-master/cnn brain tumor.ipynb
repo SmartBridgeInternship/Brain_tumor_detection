{
 "cells": [
  {
   "cell_type": "markdown",
   "metadata": {},
   "source": [
    "# Brain Tumor Detection Using MRI Images"
   ]
  },
  {
   "cell_type": "markdown",
   "metadata": {},
   "source": [
    "### Building the Model"
   ]
  },
  {
   "cell_type": "markdown",
   "metadata": {},
   "source": [
    "Step1: Import Libraries"
   ]
  },
  {
   "cell_type": "code",
   "execution_count": 120,
   "metadata": {},
   "outputs": [],
   "source": [
    "from tensorflow.keras.models import Sequential #for initialising models\n",
    "from tensorflow.keras.layers import Dense # adding layers\n",
    "from tensorflow.keras.layers import Conv2D #convolution layer\n",
    "from tensorflow.keras.layers import MaxPool2D #max pooling\n",
    "from tensorflow.keras.layers import Flatten #Flatten layer"
   ]
  },
  {
   "cell_type": "markdown",
   "metadata": {},
   "source": [
    "Step2:Initializing the model"
   ]
  },
  {
   "cell_type": "code",
   "execution_count": 121,
   "metadata": {},
   "outputs": [],
   "source": [
    "model=Sequential()"
   ]
  },
  {
   "cell_type": "markdown",
   "metadata": {},
   "source": [
    "Step3:Adding Convolution layer"
   ]
  },
  {
   "cell_type": "code",
   "execution_count": 122,
   "metadata": {},
   "outputs": [],
   "source": [
    "model.add(Conv2D(32,3,3,input_shape=(64,64,3),activation='relu')) #adding\n",
    "# 32->no.of feature detector\n",
    "#3,3->size of feature detector 3x3 matrix\n",
    "#input_shape -> Expected input shape of image\n",
    "#all images should be in same shape\n",
    "#3D->RGB Images 64x64 one\n",
    "#activation function ->relu for layers"
   ]
  },
  {
   "cell_type": "code",
   "execution_count": 123,
   "metadata": {},
   "outputs": [],
   "source": [
    "model.add(Conv2D(32,3,3,input_shape=(64,64,3),activation='relu')) "
   ]
  },
  {
   "cell_type": "code",
   "execution_count": 124,
   "metadata": {},
   "outputs": [],
   "source": [
    "model.add(Conv2D(32,3,3,input_shape=(64,64,3),activation='relu'))"
   ]
  },
  {
   "cell_type": "markdown",
   "metadata": {},
   "source": [
    "Step4: Adding maxpool layer"
   ]
  },
  {
   "cell_type": "code",
   "execution_count": 125,
   "metadata": {},
   "outputs": [],
   "source": [
    "model.add(MaxPool2D(pool_size=(2,2),name='n1'))\n",
    "#pool matrix"
   ]
  },
  {
   "cell_type": "markdown",
   "metadata": {},
   "source": [
    "Step5: Adding Flatten layer"
   ]
  },
  {
   "cell_type": "code",
   "execution_count": 126,
   "metadata": {},
   "outputs": [],
   "source": [
    "model.add(Flatten())\n",
    "#converts n dimension to 1 dimension"
   ]
  },
  {
   "cell_type": "code",
   "execution_count": 127,
   "metadata": {},
   "outputs": [
    {
     "name": "stdout",
     "output_type": "stream",
     "text": [
      "Model: \"sequential_8\"\n",
      "_________________________________________________________________\n",
      "Layer (type)                 Output Shape              Param #   \n",
      "=================================================================\n",
      "conv2d_25 (Conv2D)           (None, 21, 21, 32)        896       \n",
      "_________________________________________________________________\n",
      "conv2d_26 (Conv2D)           (None, 7, 7, 32)          9248      \n",
      "_________________________________________________________________\n",
      "conv2d_27 (Conv2D)           (None, 2, 2, 32)          9248      \n",
      "_________________________________________________________________\n",
      "n1 (MaxPooling2D)            (None, 1, 1, 32)          0         \n",
      "_________________________________________________________________\n",
      "flatten_3 (Flatten)          (None, 32)                0         \n",
      "=================================================================\n",
      "Total params: 19,392\n",
      "Trainable params: 19,392\n",
      "Non-trainable params: 0\n",
      "_________________________________________________________________\n"
     ]
    }
   ],
   "source": [
    "model.summary()\n",
    "\n",
    "\n"
   ]
  },
  {
   "cell_type": "markdown",
   "metadata": {},
   "source": [
    "Step6: ANN layers"
   ]
  },
  {
   "cell_type": "code",
   "execution_count": 128,
   "metadata": {},
   "outputs": [],
   "source": [
    "model.add(Dense(units=128,activation='relu',kernel_initializer='random_uniform'))"
   ]
  },
  {
   "cell_type": "code",
   "execution_count": 129,
   "metadata": {},
   "outputs": [],
   "source": [
    "model.add(Dense(units=1,activation='sigmoid',kernel_initializer='random_uniform'))"
   ]
  },
  {
   "cell_type": "code",
   "execution_count": 130,
   "metadata": {
    "scrolled": true
   },
   "outputs": [
    {
     "name": "stdout",
     "output_type": "stream",
     "text": [
      "Model: \"sequential_8\"\n",
      "_________________________________________________________________\n",
      "Layer (type)                 Output Shape              Param #   \n",
      "=================================================================\n",
      "conv2d_25 (Conv2D)           (None, 21, 21, 32)        896       \n",
      "_________________________________________________________________\n",
      "conv2d_26 (Conv2D)           (None, 7, 7, 32)          9248      \n",
      "_________________________________________________________________\n",
      "conv2d_27 (Conv2D)           (None, 2, 2, 32)          9248      \n",
      "_________________________________________________________________\n",
      "n1 (MaxPooling2D)            (None, 1, 1, 32)          0         \n",
      "_________________________________________________________________\n",
      "flatten_3 (Flatten)          (None, 32)                0         \n",
      "_________________________________________________________________\n",
      "dense_4 (Dense)              (None, 128)               4224      \n",
      "_________________________________________________________________\n",
      "dense_5 (Dense)              (None, 1)                 129       \n",
      "=================================================================\n",
      "Total params: 23,745\n",
      "Trainable params: 23,745\n",
      "Non-trainable params: 0\n",
      "_________________________________________________________________\n"
     ]
    }
   ],
   "source": [
    "model.summary()"
   ]
  },
  {
   "cell_type": "markdown",
   "metadata": {},
   "source": [
    "Step7: Compiling the model"
   ]
  },
  {
   "cell_type": "code",
   "execution_count": 131,
   "metadata": {},
   "outputs": [],
   "source": [
    "model.compile(optimizer='adam',loss='binary_crossentropy',metrics=['accuracy'])"
   ]
  },
  {
   "cell_type": "markdown",
   "metadata": {},
   "source": [
    "### Loading the dataset"
   ]
  },
  {
   "cell_type": "code",
   "execution_count": 132,
   "metadata": {},
   "outputs": [],
   "source": [
    "from keras.preprocessing.image import ImageDataGenerator"
   ]
  },
  {
   "cell_type": "markdown",
   "metadata": {},
   "source": [
    "Data Preprocessing"
   ]
  },
  {
   "cell_type": "code",
   "execution_count": 133,
   "metadata": {},
   "outputs": [],
   "source": [
    "train_datagen=ImageDataGenerator(rescale=1./255,shear_range=0.2,horizontal_flip=True,zoom_range=0.2)\n",
    "#1./255->1 to 255\n",
    "test_datagen=ImageDataGenerator(rescale=1./255)"
   ]
  },
  {
   "cell_type": "code",
   "execution_count": 134,
   "metadata": {},
   "outputs": [
    {
     "name": "stdout",
     "output_type": "stream",
     "text": [
      "Found 157 images belonging to 2 classes.\n",
      "Found 96 images belonging to 2 classes.\n"
     ]
    }
   ],
   "source": [
    "x_train=train_datagen.flow_from_directory('brain_tumor_dataset/train',target_size=(64,64),batch_size=32,class_mode='binary')\n",
    "x_test=test_datagen.flow_from_directory('brain_tumor_dataset/test',target_size=(64,64),batch_size=32,class_mode='binary')\n",
    "# more than 2 categories -> class_mode='categorical'"
   ]
  },
  {
   "cell_type": "code",
   "execution_count": 135,
   "metadata": {},
   "outputs": [
    {
     "name": "stdout",
     "output_type": "stream",
     "text": [
      "{'no': 0, 'yes': 1}\n"
     ]
    }
   ],
   "source": [
    "print(x_train.class_indices)"
   ]
  },
  {
   "cell_type": "code",
   "execution_count": 136,
   "metadata": {},
   "outputs": [
    {
     "data": {
      "text/plain": [
       "(5, 3)"
      ]
     },
     "execution_count": 136,
     "metadata": {},
     "output_type": "execute_result"
    }
   ],
   "source": [
    "len(x_train),len(x_test)"
   ]
  },
  {
   "cell_type": "markdown",
   "metadata": {},
   "source": [
    "### Training the Model\n"
   ]
  },
  {
   "cell_type": "code",
   "execution_count": 137,
   "metadata": {},
   "outputs": [
    {
     "name": "stderr",
     "output_type": "stream",
     "text": [
      "C:\\Users\\LENOVO\\anaconda3\\lib\\site-packages\\tensorflow\\python\\keras\\engine\\training.py:1844: UserWarning: `Model.fit_generator` is deprecated and will be removed in a future version. Please use `Model.fit`, which supports generators.\n",
      "  warnings.warn('`Model.fit_generator` is deprecated and '\n"
     ]
    },
    {
     "name": "stdout",
     "output_type": "stream",
     "text": [
      "Epoch 1/50\n",
      "5/5 [==============================] - 3s 599ms/step - loss: 0.6924 - accuracy: 0.5483 - val_loss: 0.6861 - val_accuracy: 0.6667\n",
      "Epoch 2/50\n",
      "5/5 [==============================] - 2s 464ms/step - loss: 0.6868 - accuracy: 0.5764 - val_loss: 0.6669 - val_accuracy: 0.6667\n",
      "Epoch 3/50\n",
      "5/5 [==============================] - 2s 451ms/step - loss: 0.6767 - accuracy: 0.5623 - val_loss: 0.6335 - val_accuracy: 0.6667\n",
      "Epoch 4/50\n",
      "5/5 [==============================] - 2s 470ms/step - loss: 0.6748 - accuracy: 0.5426 - val_loss: 0.6181 - val_accuracy: 0.6667\n",
      "Epoch 5/50\n",
      "5/5 [==============================] - 2s 471ms/step - loss: 0.6728 - accuracy: 0.5578 - val_loss: 0.6189 - val_accuracy: 0.6667\n",
      "Epoch 6/50\n",
      "5/5 [==============================] - 2s 450ms/step - loss: 0.6506 - accuracy: 0.5886 - val_loss: 0.6240 - val_accuracy: 0.6667\n",
      "Epoch 7/50\n",
      "5/5 [==============================] - 2s 466ms/step - loss: 0.6551 - accuracy: 0.5545 - val_loss: 0.6214 - val_accuracy: 0.6667\n",
      "Epoch 8/50\n",
      "5/5 [==============================] - 2s 475ms/step - loss: 0.6652 - accuracy: 0.5366 - val_loss: 0.6071 - val_accuracy: 0.6667\n",
      "Epoch 9/50\n",
      "5/5 [==============================] - 2s 472ms/step - loss: 0.6325 - accuracy: 0.5975 - val_loss: 0.5952 - val_accuracy: 0.6667\n",
      "Epoch 10/50\n",
      "5/5 [==============================] - 2s 471ms/step - loss: 0.6100 - accuracy: 0.6054 - val_loss: 0.6061 - val_accuracy: 0.6771\n",
      "Epoch 11/50\n",
      "5/5 [==============================] - 2s 462ms/step - loss: 0.6195 - accuracy: 0.5941 - val_loss: 0.5834 - val_accuracy: 0.6979\n",
      "Epoch 12/50\n",
      "5/5 [==============================] - 2s 460ms/step - loss: 0.5978 - accuracy: 0.6115 - val_loss: 0.5738 - val_accuracy: 0.7188\n",
      "Epoch 13/50\n",
      "5/5 [==============================] - 2s 451ms/step - loss: 0.5619 - accuracy: 0.6791 - val_loss: 0.6060 - val_accuracy: 0.7292\n",
      "Epoch 14/50\n",
      "5/5 [==============================] - 2s 458ms/step - loss: 0.5629 - accuracy: 0.7661 - val_loss: 0.5683 - val_accuracy: 0.7188\n",
      "Epoch 15/50\n",
      "5/5 [==============================] - 2s 469ms/step - loss: 0.5918 - accuracy: 0.7252 - val_loss: 0.5918 - val_accuracy: 0.7292\n",
      "Epoch 16/50\n",
      "5/5 [==============================] - 2s 453ms/step - loss: 0.5436 - accuracy: 0.7596 - val_loss: 0.5824 - val_accuracy: 0.7292\n",
      "Epoch 17/50\n",
      "5/5 [==============================] - 2s 446ms/step - loss: 0.5479 - accuracy: 0.7377 - val_loss: 0.5634 - val_accuracy: 0.7188\n",
      "Epoch 18/50\n",
      "5/5 [==============================] - 2s 462ms/step - loss: 0.4830 - accuracy: 0.7479 - val_loss: 0.5875 - val_accuracy: 0.7083\n",
      "Epoch 19/50\n",
      "5/5 [==============================] - 2s 489ms/step - loss: 0.5170 - accuracy: 0.7929 - val_loss: 0.5721 - val_accuracy: 0.7292\n",
      "Epoch 20/50\n",
      "5/5 [==============================] - 2s 456ms/step - loss: 0.4014 - accuracy: 0.8505 - val_loss: 0.5825 - val_accuracy: 0.7188\n",
      "Epoch 21/50\n",
      "5/5 [==============================] - 2s 461ms/step - loss: 0.5370 - accuracy: 0.7056 - val_loss: 0.5628 - val_accuracy: 0.7292\n",
      "Epoch 22/50\n",
      "5/5 [==============================] - 2s 465ms/step - loss: 0.4853 - accuracy: 0.7841 - val_loss: 0.5701 - val_accuracy: 0.7292\n",
      "Epoch 23/50\n",
      "5/5 [==============================] - 2s 448ms/step - loss: 0.4311 - accuracy: 0.7951 - val_loss: 0.5534 - val_accuracy: 0.7188\n",
      "Epoch 24/50\n",
      "5/5 [==============================] - 2s 454ms/step - loss: 0.4666 - accuracy: 0.8148 - val_loss: 0.5986 - val_accuracy: 0.6771\n",
      "Epoch 25/50\n",
      "5/5 [==============================] - 2s 472ms/step - loss: 0.5007 - accuracy: 0.7573 - val_loss: 0.5422 - val_accuracy: 0.7500\n",
      "Epoch 26/50\n",
      "5/5 [==============================] - 2s 467ms/step - loss: 0.5141 - accuracy: 0.7568 - val_loss: 0.5557 - val_accuracy: 0.7188\n",
      "Epoch 27/50\n",
      "5/5 [==============================] - 2s 458ms/step - loss: 0.4404 - accuracy: 0.7951 - val_loss: 0.5344 - val_accuracy: 0.7500\n",
      "Epoch 28/50\n",
      "5/5 [==============================] - 2s 436ms/step - loss: 0.4533 - accuracy: 0.7988 - val_loss: 0.5841 - val_accuracy: 0.6875\n",
      "Epoch 29/50\n",
      "5/5 [==============================] - 2s 524ms/step - loss: 0.4284 - accuracy: 0.8120 - val_loss: 0.5781 - val_accuracy: 0.7708\n",
      "Epoch 30/50\n",
      "5/5 [==============================] - 2s 450ms/step - loss: 0.5712 - accuracy: 0.7088 - val_loss: 0.5288 - val_accuracy: 0.7083\n",
      "Epoch 31/50\n",
      "5/5 [==============================] - 2s 445ms/step - loss: 0.4315 - accuracy: 0.8061 - val_loss: 0.5215 - val_accuracy: 0.7396\n",
      "Epoch 32/50\n",
      "5/5 [==============================] - 2s 455ms/step - loss: 0.4903 - accuracy: 0.7409 - val_loss: 0.5181 - val_accuracy: 0.7812\n",
      "Epoch 33/50\n",
      "5/5 [==============================] - 2s 470ms/step - loss: 0.4656 - accuracy: 0.7573 - val_loss: 0.5244 - val_accuracy: 0.7188\n",
      "Epoch 34/50\n",
      "5/5 [==============================] - 2s 467ms/step - loss: 0.4473 - accuracy: 0.7704 - val_loss: 0.5221 - val_accuracy: 0.7396\n",
      "Epoch 35/50\n",
      "5/5 [==============================] - 2s 460ms/step - loss: 0.4546 - accuracy: 0.8208 - val_loss: 0.5202 - val_accuracy: 0.7708\n",
      "Epoch 36/50\n",
      "5/5 [==============================] - 2s 473ms/step - loss: 0.4954 - accuracy: 0.7786 - val_loss: 0.5537 - val_accuracy: 0.6979\n",
      "Epoch 37/50\n",
      "5/5 [==============================] - 2s 484ms/step - loss: 0.4280 - accuracy: 0.8273 - val_loss: 0.5267 - val_accuracy: 0.7812\n",
      "Epoch 38/50\n",
      "5/5 [==============================] - 2s 494ms/step - loss: 0.4351 - accuracy: 0.8352 - val_loss: 0.5600 - val_accuracy: 0.6979\n",
      "Epoch 39/50\n",
      "5/5 [==============================] - 2s 470ms/step - loss: 0.4388 - accuracy: 0.8141 - val_loss: 0.5103 - val_accuracy: 0.8021\n",
      "Epoch 40/50\n",
      "5/5 [==============================] - 2s 467ms/step - loss: 0.4262 - accuracy: 0.8083 - val_loss: 0.5247 - val_accuracy: 0.7083\n",
      "Epoch 41/50\n",
      "5/5 [==============================] - 2s 476ms/step - loss: 0.3853 - accuracy: 0.8550 - val_loss: 0.5053 - val_accuracy: 0.7708\n",
      "Epoch 42/50\n",
      "5/5 [==============================] - 2s 465ms/step - loss: 0.4188 - accuracy: 0.8136 - val_loss: 0.5504 - val_accuracy: 0.7083\n",
      "Epoch 43/50\n",
      "5/5 [==============================] - 2s 468ms/step - loss: 0.4550 - accuracy: 0.7802 - val_loss: 0.5430 - val_accuracy: 0.7917\n",
      "Epoch 44/50\n",
      "5/5 [==============================] - 2s 469ms/step - loss: 0.4387 - accuracy: 0.8069 - val_loss: 0.5503 - val_accuracy: 0.6875\n",
      "Epoch 45/50\n",
      "5/5 [==============================] - 2s 445ms/step - loss: 0.4785 - accuracy: 0.7403 - val_loss: 0.5066 - val_accuracy: 0.7708\n",
      "Epoch 46/50\n",
      "5/5 [==============================] - 2s 464ms/step - loss: 0.4095 - accuracy: 0.7599 - val_loss: 0.5103 - val_accuracy: 0.7917\n",
      "Epoch 47/50\n",
      "5/5 [==============================] - 2s 464ms/step - loss: 0.4037 - accuracy: 0.8024 - val_loss: 0.5463 - val_accuracy: 0.6875\n",
      "Epoch 48/50\n",
      "5/5 [==============================] - 2s 473ms/step - loss: 0.4739 - accuracy: 0.7502 - val_loss: 0.5285 - val_accuracy: 0.7708\n",
      "Epoch 49/50\n",
      "5/5 [==============================] - 2s 465ms/step - loss: 0.4727 - accuracy: 0.7656 - val_loss: 0.5332 - val_accuracy: 0.6979\n",
      "Epoch 50/50\n",
      "5/5 [==============================] - 3s 558ms/step - loss: 0.3548 - accuracy: 0.8620 - val_loss: 0.5124 - val_accuracy: 0.7812\n"
     ]
    },
    {
     "data": {
      "text/plain": [
       "<tensorflow.python.keras.callbacks.History at 0x1f99b6ca760>"
      ]
     },
     "execution_count": 137,
     "metadata": {},
     "output_type": "execute_result"
    }
   ],
   "source": [
    "model.fit_generator(x_train,validation_data=x_test,epochs=50,validation_steps=len(x_test))"
   ]
  },
  {
   "cell_type": "code",
   "execution_count": 139,
   "metadata": {},
   "outputs": [
    {
     "name": "stdout",
     "output_type": "stream",
     "text": [
      "Epoch 1/50\n",
      "5/5 [==============================] - 2s 542ms/step - loss: 0.2837 - accuracy: 0.8535 - val_loss: 0.5691 - val_accuracy: 0.7812\n",
      "Epoch 2/50\n",
      "5/5 [==============================] - 2s 484ms/step - loss: 0.2160 - accuracy: 0.9108 - val_loss: 0.6546 - val_accuracy: 0.7188\n",
      "Epoch 3/50\n",
      "5/5 [==============================] - 2s 474ms/step - loss: 0.3174 - accuracy: 0.8599 - val_loss: 0.5718 - val_accuracy: 0.7396\n",
      "Epoch 4/50\n",
      "5/5 [==============================] - 2s 463ms/step - loss: 0.2538 - accuracy: 0.9045 - val_loss: 0.5626 - val_accuracy: 0.7812\n",
      "Epoch 5/50\n",
      "5/5 [==============================] - 2s 468ms/step - loss: 0.3453 - accuracy: 0.8662 - val_loss: 0.8679 - val_accuracy: 0.7188\n",
      "Epoch 6/50\n",
      "5/5 [==============================] - 2s 466ms/step - loss: 0.4055 - accuracy: 0.8025 - val_loss: 0.6234 - val_accuracy: 0.7708\n",
      "Epoch 7/50\n",
      "5/5 [==============================] - 2s 496ms/step - loss: 0.2767 - accuracy: 0.8726 - val_loss: 0.7099 - val_accuracy: 0.7188\n",
      "Epoch 8/50\n",
      "5/5 [==============================] - 2s 462ms/step - loss: 0.3196 - accuracy: 0.8599 - val_loss: 0.5981 - val_accuracy: 0.7500\n",
      "Epoch 9/50\n",
      "5/5 [==============================] - 2s 450ms/step - loss: 0.2899 - accuracy: 0.8790 - val_loss: 0.6201 - val_accuracy: 0.7396\n",
      "Epoch 10/50\n",
      "5/5 [==============================] - 2s 481ms/step - loss: 0.2250 - accuracy: 0.8917 - val_loss: 0.5461 - val_accuracy: 0.7708\n",
      "Epoch 11/50\n",
      "5/5 [==============================] - 2s 452ms/step - loss: 0.2466 - accuracy: 0.8854 - val_loss: 0.5622 - val_accuracy: 0.7604\n",
      "Epoch 12/50\n",
      "5/5 [==============================] - 2s 451ms/step - loss: 0.2278 - accuracy: 0.9045 - val_loss: 0.5968 - val_accuracy: 0.7292\n",
      "Epoch 13/50\n",
      "5/5 [==============================] - 2s 468ms/step - loss: 0.2830 - accuracy: 0.8726 - val_loss: 0.5815 - val_accuracy: 0.7500\n",
      "Epoch 14/50\n",
      "5/5 [==============================] - 2s 448ms/step - loss: 0.2416 - accuracy: 0.9045 - val_loss: 0.5653 - val_accuracy: 0.7500\n",
      "Epoch 15/50\n",
      "5/5 [==============================] - 2s 458ms/step - loss: 0.2163 - accuracy: 0.8917 - val_loss: 0.5778 - val_accuracy: 0.7396\n",
      "Epoch 16/50\n",
      "5/5 [==============================] - 2s 463ms/step - loss: 0.2619 - accuracy: 0.8854 - val_loss: 0.6555 - val_accuracy: 0.7396\n",
      "Epoch 17/50\n",
      "5/5 [==============================] - 2s 457ms/step - loss: 0.2483 - accuracy: 0.8917 - val_loss: 0.6267 - val_accuracy: 0.7604\n",
      "Epoch 18/50\n",
      "5/5 [==============================] - 2s 443ms/step - loss: 0.2334 - accuracy: 0.8790 - val_loss: 0.7050 - val_accuracy: 0.7188\n",
      "Epoch 19/50\n",
      "5/5 [==============================] - 2s 462ms/step - loss: 0.3372 - accuracy: 0.8535 - val_loss: 0.7378 - val_accuracy: 0.7812\n",
      "Epoch 20/50\n",
      "5/5 [==============================] - 2s 437ms/step - loss: 0.2948 - accuracy: 0.8599 - val_loss: 0.7904 - val_accuracy: 0.7292\n",
      "Epoch 21/50\n",
      "5/5 [==============================] - 2s 478ms/step - loss: 0.2541 - accuracy: 0.8790 - val_loss: 0.6030 - val_accuracy: 0.7604\n",
      "Epoch 22/50\n",
      "5/5 [==============================] - 2s 454ms/step - loss: 0.2679 - accuracy: 0.8790 - val_loss: 0.6902 - val_accuracy: 0.7396\n",
      "Epoch 23/50\n",
      "5/5 [==============================] - 2s 439ms/step - loss: 0.2974 - accuracy: 0.8599 - val_loss: 0.5679 - val_accuracy: 0.7917\n",
      "Epoch 24/50\n",
      "5/5 [==============================] - 2s 446ms/step - loss: 0.2378 - accuracy: 0.8981 - val_loss: 0.5629 - val_accuracy: 0.7604\n",
      "Epoch 25/50\n",
      "5/5 [==============================] - 2s 442ms/step - loss: 0.2566 - accuracy: 0.9045 - val_loss: 0.6119 - val_accuracy: 0.7500\n",
      "Epoch 26/50\n",
      "5/5 [==============================] - 2s 446ms/step - loss: 0.2118 - accuracy: 0.9108 - val_loss: 0.5623 - val_accuracy: 0.7917\n",
      "Epoch 27/50\n",
      "5/5 [==============================] - 2s 445ms/step - loss: 0.2578 - accuracy: 0.8662 - val_loss: 0.6489 - val_accuracy: 0.7500\n",
      "Epoch 28/50\n",
      "5/5 [==============================] - 2s 484ms/step - loss: 0.2488 - accuracy: 0.8981 - val_loss: 0.5703 - val_accuracy: 0.7604\n",
      "Epoch 29/50\n",
      "5/5 [==============================] - 2s 459ms/step - loss: 0.2021 - accuracy: 0.9236 - val_loss: 0.5827 - val_accuracy: 0.7708\n",
      "Epoch 30/50\n",
      "5/5 [==============================] - 2s 446ms/step - loss: 0.2597 - accuracy: 0.8790 - val_loss: 0.5930 - val_accuracy: 0.7708\n",
      "Epoch 31/50\n",
      "5/5 [==============================] - 2s 454ms/step - loss: 0.2335 - accuracy: 0.8790 - val_loss: 0.6483 - val_accuracy: 0.7292\n",
      "Epoch 32/50\n",
      "5/5 [==============================] - 2s 467ms/step - loss: 0.2800 - accuracy: 0.8726 - val_loss: 0.6124 - val_accuracy: 0.7917\n",
      "Epoch 33/50\n",
      "5/5 [==============================] - 2s 466ms/step - loss: 0.2099 - accuracy: 0.8917 - val_loss: 0.6595 - val_accuracy: 0.7292\n",
      "Epoch 34/50\n",
      "5/5 [==============================] - 2s 462ms/step - loss: 0.1980 - accuracy: 0.9299 - val_loss: 0.6297 - val_accuracy: 0.7708\n",
      "Epoch 35/50\n",
      "5/5 [==============================] - 2s 465ms/step - loss: 0.2536 - accuracy: 0.8726 - val_loss: 0.6446 - val_accuracy: 0.7604\n",
      "Epoch 36/50\n",
      "5/5 [==============================] - 2s 468ms/step - loss: 0.1827 - accuracy: 0.9427 - val_loss: 0.6259 - val_accuracy: 0.7604\n",
      "Epoch 37/50\n",
      "5/5 [==============================] - 2s 482ms/step - loss: 0.2077 - accuracy: 0.9172 - val_loss: 0.6744 - val_accuracy: 0.7292\n",
      "Epoch 38/50\n",
      "5/5 [==============================] - 2s 443ms/step - loss: 0.1843 - accuracy: 0.9682 - val_loss: 0.6345 - val_accuracy: 0.7812\n",
      "Epoch 39/50\n",
      "5/5 [==============================] - 2s 482ms/step - loss: 0.2800 - accuracy: 0.8854 - val_loss: 0.7415 - val_accuracy: 0.7292\n",
      "Epoch 40/50\n",
      "5/5 [==============================] - 2s 457ms/step - loss: 0.2669 - accuracy: 0.8917 - val_loss: 0.6208 - val_accuracy: 0.7917\n",
      "Epoch 41/50\n",
      "5/5 [==============================] - 2s 489ms/step - loss: 0.2142 - accuracy: 0.8981 - val_loss: 0.7638 - val_accuracy: 0.7188\n",
      "Epoch 42/50\n",
      "5/5 [==============================] - 2s 465ms/step - loss: 0.2699 - accuracy: 0.8471 - val_loss: 0.6767 - val_accuracy: 0.7500\n",
      "Epoch 43/50\n",
      "5/5 [==============================] - 2s 467ms/step - loss: 0.2282 - accuracy: 0.9236 - val_loss: 0.7842 - val_accuracy: 0.7396\n",
      "Epoch 44/50\n",
      "5/5 [==============================] - 2s 457ms/step - loss: 0.1937 - accuracy: 0.9108 - val_loss: 0.6248 - val_accuracy: 0.7812\n",
      "Epoch 45/50\n",
      "5/5 [==============================] - 2s 436ms/step - loss: 0.2613 - accuracy: 0.8981 - val_loss: 0.6750 - val_accuracy: 0.7396\n",
      "Epoch 46/50\n",
      "5/5 [==============================] - 2s 466ms/step - loss: 0.1877 - accuracy: 0.9172 - val_loss: 0.6020 - val_accuracy: 0.7812\n",
      "Epoch 47/50\n",
      "5/5 [==============================] - 2s 481ms/step - loss: 0.1914 - accuracy: 0.9299 - val_loss: 0.6193 - val_accuracy: 0.7812\n",
      "Epoch 48/50\n",
      "5/5 [==============================] - 3s 630ms/step - loss: 0.1995 - accuracy: 0.9045 - val_loss: 0.6160 - val_accuracy: 0.7812\n",
      "Epoch 49/50\n",
      "5/5 [==============================] - 2s 527ms/step - loss: 0.2147 - accuracy: 0.9172 - val_loss: 0.6460 - val_accuracy: 0.7396\n",
      "Epoch 50/50\n",
      "5/5 [==============================] - 3s 476ms/step - loss: 0.1982 - accuracy: 0.9427 - val_loss: 0.6058 - val_accuracy: 0.7708\n"
     ]
    },
    {
     "data": {
      "text/plain": [
       "<tensorflow.python.keras.callbacks.History at 0x1f99b6be070>"
      ]
     },
     "execution_count": 139,
     "metadata": {},
     "output_type": "execute_result"
    }
   ],
   "source": [
    "model.fit_generator(x_train,validation_data=x_test,epochs=50,validation_steps=len(x_test))"
   ]
  },
  {
   "cell_type": "markdown",
   "metadata": {},
   "source": [
    "### Save the Model"
   ]
  },
  {
   "cell_type": "code",
   "execution_count": 140,
   "metadata": {},
   "outputs": [],
   "source": [
    "model.save('tumor.h5')"
   ]
  },
  {
   "cell_type": "markdown",
   "metadata": {},
   "source": [
    "### Predicting the Model"
   ]
  },
  {
   "cell_type": "code",
   "execution_count": 141,
   "metadata": {},
   "outputs": [],
   "source": [
    "from tensorflow.keras.models import load_model\n",
    "import cv2\n",
    "import numpy as np"
   ]
  },
  {
   "cell_type": "code",
   "execution_count": 142,
   "metadata": {},
   "outputs": [],
   "source": [
    "model=load_model('tumor.h5')"
   ]
  },
  {
   "cell_type": "code",
   "execution_count": 143,
   "metadata": {},
   "outputs": [],
   "source": [
    "from skimage.transform import resize"
   ]
  },
  {
   "cell_type": "code",
   "execution_count": 144,
   "metadata": {},
   "outputs": [],
   "source": [
    "def detect(frame):\n",
    "    img=resize(frame,(64,64))\n",
    "    img=np.expand_dims(img,axis=0)\n",
    "    if(np.max(img))>1:\n",
    "        img=img/255.0\n",
    "    prediction=model.predict(img)\n",
    "    print(prediction)\n",
    "    if prediction>0.5:\n",
    "        print('Yes')\n",
    "    else:\n",
    "        print('No')"
   ]
  },
  {
   "cell_type": "code",
   "execution_count": 145,
   "metadata": {},
   "outputs": [
    {
     "name": "stdout",
     "output_type": "stream",
     "text": [
      "[[0.07762507]]\n",
      "No\n"
     ]
    }
   ],
   "source": [
    "frame=cv2.imread('brain_tumor_dataset/test/no/1 no.jpeg')\n",
    "data=detect(frame)"
   ]
  },
  {
   "cell_type": "markdown",
   "metadata": {},
   "source": [
    "### Application Building"
   ]
  },
  {
   "cell_type": "code",
   "execution_count": 146,
   "metadata": {},
   "outputs": [],
   "source": [
    "from __future__ import division, print_function\n",
    "# coding=utf-8\n",
    "import sys\n",
    "import os\n",
    "import glob\n",
    "import numpy as np\n",
    "from keras.preprocessing import image \n",
    "\n",
    "\n",
    "from keras.applications.imagenet_utils import preprocess_input, decode_predictions\n",
    "\n",
    "from keras.models import load_model\n",
    "from keras import backend\n",
    "from tensorflow.keras import backend\n",
    "\n",
    "import tensorflow as tf\n"
   ]
  },
  {
   "cell_type": "code",
   "execution_count": 147,
   "metadata": {},
   "outputs": [],
   "source": [
    "from skimage.transform import resize\n",
    "\n",
    "# Flask utils\n",
    "from flask import Flask, redirect, url_for, request, render_template\n",
    "from werkzeug.utils import secure_filename\n",
    "from gevent.pywsgi import WSGIServer"
   ]
  },
  {
   "cell_type": "code",
   "execution_count": 155,
   "metadata": {},
   "outputs": [],
   "source": [
    "app = Flask(__name__)\n",
    "MODEL_PATH = 'tumor.h5'\n",
    "model = load_model(MODEL_PATH)\n",
    "@app.route('/', methods=['GET'])\n",
    "def index():\n",
    "    # Main page\n",
    "    return render_template('index.html')\n",
    "@app.route('/predict', methods=['GET', 'POST'])\n",
    "def upload():\n",
    "    if request.method == 'POST':\n",
    "        # Get the file from post request\n",
    "        f = request.files['file']\n",
    "\n",
    "        # Save the file to ./uploads\n",
    "        basepath = os.path.dirname('__file__')\n",
    "        file_path = os.path.join(\n",
    "            basepath, 'uploads', secure_filename(f.filename))\n",
    "        f.save(file_path)\n",
    "        img = image.load_img(file_path, target_size=(64,64))\n",
    "        x = image.img_to_array(img)\n",
    "        x = np.expand_dims(x, axis=0)\n",
    "        preds = model.predict(x)\n",
    "        if preds>0.5:\n",
    "            text='Yes'\n",
    "        else:\n",
    "            text='No'\n",
    "        return text"
   ]
  },
  {
   "cell_type": "code",
   "execution_count": null,
   "metadata": {
    "scrolled": true
   },
   "outputs": [
    {
     "name": "stdout",
     "output_type": "stream",
     "text": [
      " * Serving Flask app \"__main__\" (lazy loading)\n",
      " * Environment: production\n",
      "   WARNING: This is a development server. Do not use it in a production deployment.\n",
      "   Use a production WSGI server instead.\n",
      " * Debug mode: off\n"
     ]
    },
    {
     "name": "stderr",
     "output_type": "stream",
     "text": [
      " * Running on http://127.0.0.1:5000/ (Press CTRL+C to quit)\n",
      "127.0.0.1 - - [20/Mar/2021 23:50:22] \"\u001b[37mGET / HTTP/1.1\u001b[0m\" 200 -\n"
     ]
    },
    {
     "name": "stdout",
     "output_type": "stream",
     "text": [
      "WARNING:tensorflow:6 out of the last 9 calls to <function Model.make_predict_function.<locals>.predict_function at 0x000001F99B4B8EE0> triggered tf.function retracing. Tracing is expensive and the excessive number of tracings could be due to (1) creating @tf.function repeatedly in a loop, (2) passing tensors with different shapes, (3) passing Python objects instead of tensors. For (1), please define your @tf.function outside of the loop. For (2), @tf.function has experimental_relax_shapes=True option that relaxes argument shapes that can avoid unnecessary retracing. For (3), please refer to https://www.tensorflow.org/guide/function#controlling_retracing and https://www.tensorflow.org/api_docs/python/tf/function for  more details.\n"
     ]
    },
    {
     "name": "stderr",
     "output_type": "stream",
     "text": [
      "127.0.0.1 - - [20/Mar/2021 23:50:33] \"\u001b[37mPOST /predict HTTP/1.1\u001b[0m\" 200 -\n",
      "127.0.0.1 - - [20/Mar/2021 23:50:56] \"\u001b[37mPOST /predict HTTP/1.1\u001b[0m\" 200 -\n"
     ]
    }
   ],
   "source": [
    "if __name__ == '__main__':\n",
    "    app.run(debug=False,threaded = False)"
   ]
  },
  {
   "cell_type": "code",
   "execution_count": null,
   "metadata": {},
   "outputs": [],
   "source": []
  }
 ],
 "metadata": {
  "kernelspec": {
   "display_name": "Python 3",
   "language": "python",
   "name": "python3"
  },
  "language_info": {
   "codemirror_mode": {
    "name": "ipython",
    "version": 3
   },
   "file_extension": ".py",
   "mimetype": "text/x-python",
   "name": "python",
   "nbconvert_exporter": "python",
   "pygments_lexer": "ipython3",
   "version": "3.8.5"
  }
 },
 "nbformat": 4,
 "nbformat_minor": 4
}
